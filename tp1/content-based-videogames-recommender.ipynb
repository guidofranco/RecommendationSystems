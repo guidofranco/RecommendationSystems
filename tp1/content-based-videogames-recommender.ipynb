{
 "cells": [
  {
   "cell_type": "markdown",
   "metadata": {},
   "source": [
    "# **Content-based videogames recommendation system**"
   ]
  },
  {
   "cell_type": "markdown",
   "metadata": {},
   "source": [
    "We are going to work with a dataset of videogames from [Steam](https://store.steampowered.com) shop.\n",
    "\n",
    "This dataset is available in Kaggle. Click [here](https://www.kaggle.com/trolukovich/steam-games-complete-dataset) for get more details about this data."
   ]
  },
  {
   "cell_type": "markdown",
   "metadata": {},
   "source": [
    "## **Data pre-processing**"
   ]
  },
  {
   "cell_type": "code",
   "execution_count": 1,
   "metadata": {},
   "outputs": [],
   "source": [
    "import pandas as pd\n",
    "from pandas_profiling import ProfileReport"
   ]
  },
  {
   "cell_type": "code",
   "execution_count": 2,
   "metadata": {},
   "outputs": [
    {
     "data": {
      "text/html": [
       "<div>\n",
       "<style scoped>\n",
       "    .dataframe tbody tr th:only-of-type {\n",
       "        vertical-align: middle;\n",
       "    }\n",
       "\n",
       "    .dataframe tbody tr th {\n",
       "        vertical-align: top;\n",
       "    }\n",
       "\n",
       "    .dataframe thead th {\n",
       "        text-align: right;\n",
       "    }\n",
       "</style>\n",
       "<table border=\"1\" class=\"dataframe\">\n",
       "  <thead>\n",
       "    <tr style=\"text-align: right;\">\n",
       "      <th></th>\n",
       "      <th>url</th>\n",
       "      <th>types</th>\n",
       "      <th>name</th>\n",
       "      <th>desc_snippet</th>\n",
       "      <th>recent_reviews</th>\n",
       "      <th>all_reviews</th>\n",
       "      <th>release_date</th>\n",
       "      <th>developer</th>\n",
       "      <th>publisher</th>\n",
       "      <th>popular_tags</th>\n",
       "      <th>game_details</th>\n",
       "      <th>languages</th>\n",
       "      <th>achievements</th>\n",
       "      <th>genre</th>\n",
       "      <th>game_description</th>\n",
       "      <th>mature_content</th>\n",
       "      <th>minimum_requirements</th>\n",
       "      <th>recommended_requirements</th>\n",
       "      <th>original_price</th>\n",
       "      <th>discount_price</th>\n",
       "    </tr>\n",
       "  </thead>\n",
       "  <tbody>\n",
       "    <tr>\n",
       "      <th>0</th>\n",
       "      <td>https://store.steampowered.com/app/379720/DOOM/</td>\n",
       "      <td>app</td>\n",
       "      <td>DOOM</td>\n",
       "      <td>Now includes all three premium DLC packs (Unto...</td>\n",
       "      <td>Very Positive,(554),- 89% of the 554 user revi...</td>\n",
       "      <td>Very Positive,(42,550),- 92% of the 42,550 use...</td>\n",
       "      <td>May 12, 2016</td>\n",
       "      <td>id Software</td>\n",
       "      <td>Bethesda Softworks,Bethesda Softworks</td>\n",
       "      <td>FPS,Gore,Action,Demons,Shooter,First-Person,Gr...</td>\n",
       "      <td>Single-player,Multi-player,Co-op,Steam Achieve...</td>\n",
       "      <td>English,French,Italian,German,Spanish - Spain,...</td>\n",
       "      <td>54.0</td>\n",
       "      <td>Action</td>\n",
       "      <td>About This Game Developed by id software, the...</td>\n",
       "      <td>NaN</td>\n",
       "      <td>Minimum:,OS:,Windows 7/8.1/10 (64-bit versions...</td>\n",
       "      <td>Recommended:,OS:,Windows 7/8.1/10 (64-bit vers...</td>\n",
       "      <td>$19.99</td>\n",
       "      <td>$14.99</td>\n",
       "    </tr>\n",
       "    <tr>\n",
       "      <th>1</th>\n",
       "      <td>https://store.steampowered.com/app/578080/PLAY...</td>\n",
       "      <td>app</td>\n",
       "      <td>PLAYERUNKNOWN'S BATTLEGROUNDS</td>\n",
       "      <td>PLAYERUNKNOWN'S BATTLEGROUNDS is a battle roya...</td>\n",
       "      <td>Mixed,(6,214),- 49% of the 6,214 user reviews ...</td>\n",
       "      <td>Mixed,(836,608),- 49% of the 836,608 user revi...</td>\n",
       "      <td>Dec 21, 2017</td>\n",
       "      <td>PUBG Corporation</td>\n",
       "      <td>PUBG Corporation,PUBG Corporation</td>\n",
       "      <td>Survival,Shooter,Multiplayer,Battle Royale,PvP...</td>\n",
       "      <td>Multi-player,Online Multi-Player,Stats</td>\n",
       "      <td>English,Korean,Simplified Chinese,French,Germa...</td>\n",
       "      <td>37.0</td>\n",
       "      <td>Action,Adventure,Massively Multiplayer</td>\n",
       "      <td>About This Game  PLAYERUNKNOWN'S BATTLEGROUND...</td>\n",
       "      <td>Mature Content Description  The developers de...</td>\n",
       "      <td>Minimum:,Requires a 64-bit processor and opera...</td>\n",
       "      <td>Recommended:,Requires a 64-bit processor and o...</td>\n",
       "      <td>$29.99</td>\n",
       "      <td>NaN</td>\n",
       "    </tr>\n",
       "    <tr>\n",
       "      <th>2</th>\n",
       "      <td>https://store.steampowered.com/app/637090/BATT...</td>\n",
       "      <td>app</td>\n",
       "      <td>BATTLETECH</td>\n",
       "      <td>Take command of your own mercenary outfit of '...</td>\n",
       "      <td>Mixed,(166),- 54% of the 166 user reviews in t...</td>\n",
       "      <td>Mostly Positive,(7,030),- 71% of the 7,030 use...</td>\n",
       "      <td>Apr 24, 2018</td>\n",
       "      <td>Harebrained Schemes</td>\n",
       "      <td>Paradox Interactive,Paradox Interactive</td>\n",
       "      <td>Mechs,Strategy,Turn-Based,Turn-Based Tactics,S...</td>\n",
       "      <td>Single-player,Multi-player,Online Multi-Player...</td>\n",
       "      <td>English,French,German,Russian</td>\n",
       "      <td>128.0</td>\n",
       "      <td>Action,Adventure,Strategy</td>\n",
       "      <td>About This Game  From original BATTLETECH/Mec...</td>\n",
       "      <td>NaN</td>\n",
       "      <td>Minimum:,Requires a 64-bit processor and opera...</td>\n",
       "      <td>Recommended:,Requires a 64-bit processor and o...</td>\n",
       "      <td>$39.99</td>\n",
       "      <td>NaN</td>\n",
       "    </tr>\n",
       "    <tr>\n",
       "      <th>3</th>\n",
       "      <td>https://store.steampowered.com/app/221100/DayZ/</td>\n",
       "      <td>app</td>\n",
       "      <td>DayZ</td>\n",
       "      <td>The post-soviet country of Chernarus is struck...</td>\n",
       "      <td>Mixed,(932),- 57% of the 932 user reviews in t...</td>\n",
       "      <td>Mixed,(167,115),- 61% of the 167,115 user revi...</td>\n",
       "      <td>Dec 13, 2018</td>\n",
       "      <td>Bohemia Interactive</td>\n",
       "      <td>Bohemia Interactive,Bohemia Interactive</td>\n",
       "      <td>Survival,Zombies,Open World,Multiplayer,PvP,Ma...</td>\n",
       "      <td>Multi-player,Online Multi-Player,Steam Worksho...</td>\n",
       "      <td>English,French,Italian,German,Spanish - Spain,...</td>\n",
       "      <td>NaN</td>\n",
       "      <td>Action,Adventure,Massively Multiplayer</td>\n",
       "      <td>About This Game The post-soviet country of Ch...</td>\n",
       "      <td>NaN</td>\n",
       "      <td>Minimum:,OS:,Windows 7/8.1 64-bit,Processor:,I...</td>\n",
       "      <td>Recommended:,OS:,Windows 10 64-bit,Processor:,...</td>\n",
       "      <td>$44.99</td>\n",
       "      <td>NaN</td>\n",
       "    </tr>\n",
       "    <tr>\n",
       "      <th>4</th>\n",
       "      <td>https://store.steampowered.com/app/8500/EVE_On...</td>\n",
       "      <td>app</td>\n",
       "      <td>EVE Online</td>\n",
       "      <td>EVE Online is a community-driven spaceship MMO...</td>\n",
       "      <td>Mixed,(287),- 54% of the 287 user reviews in t...</td>\n",
       "      <td>Mostly Positive,(11,481),- 74% of the 11,481 u...</td>\n",
       "      <td>May 6, 2003</td>\n",
       "      <td>CCP</td>\n",
       "      <td>CCP,CCP</td>\n",
       "      <td>Space,Massively Multiplayer,Sci-fi,Sandbox,MMO...</td>\n",
       "      <td>Multi-player,Online Multi-Player,MMO,Co-op,Onl...</td>\n",
       "      <td>English,German,Russian,French</td>\n",
       "      <td>NaN</td>\n",
       "      <td>Action,Free to Play,Massively Multiplayer,RPG,...</td>\n",
       "      <td>About This Game</td>\n",
       "      <td>NaN</td>\n",
       "      <td>Minimum:,OS:,Windows 7,Processor:,Intel Dual C...</td>\n",
       "      <td>Recommended:,OS:,Windows 10,Processor:,Intel i...</td>\n",
       "      <td>Free</td>\n",
       "      <td>NaN</td>\n",
       "    </tr>\n",
       "  </tbody>\n",
       "</table>\n",
       "</div>"
      ],
      "text/plain": [
       "                                                 url types  \\\n",
       "0    https://store.steampowered.com/app/379720/DOOM/   app   \n",
       "1  https://store.steampowered.com/app/578080/PLAY...   app   \n",
       "2  https://store.steampowered.com/app/637090/BATT...   app   \n",
       "3    https://store.steampowered.com/app/221100/DayZ/   app   \n",
       "4  https://store.steampowered.com/app/8500/EVE_On...   app   \n",
       "\n",
       "                            name  \\\n",
       "0                           DOOM   \n",
       "1  PLAYERUNKNOWN'S BATTLEGROUNDS   \n",
       "2                     BATTLETECH   \n",
       "3                           DayZ   \n",
       "4                     EVE Online   \n",
       "\n",
       "                                        desc_snippet  \\\n",
       "0  Now includes all three premium DLC packs (Unto...   \n",
       "1  PLAYERUNKNOWN'S BATTLEGROUNDS is a battle roya...   \n",
       "2  Take command of your own mercenary outfit of '...   \n",
       "3  The post-soviet country of Chernarus is struck...   \n",
       "4  EVE Online is a community-driven spaceship MMO...   \n",
       "\n",
       "                                      recent_reviews  \\\n",
       "0  Very Positive,(554),- 89% of the 554 user revi...   \n",
       "1  Mixed,(6,214),- 49% of the 6,214 user reviews ...   \n",
       "2  Mixed,(166),- 54% of the 166 user reviews in t...   \n",
       "3  Mixed,(932),- 57% of the 932 user reviews in t...   \n",
       "4  Mixed,(287),- 54% of the 287 user reviews in t...   \n",
       "\n",
       "                                         all_reviews  release_date  \\\n",
       "0  Very Positive,(42,550),- 92% of the 42,550 use...  May 12, 2016   \n",
       "1  Mixed,(836,608),- 49% of the 836,608 user revi...  Dec 21, 2017   \n",
       "2  Mostly Positive,(7,030),- 71% of the 7,030 use...  Apr 24, 2018   \n",
       "3  Mixed,(167,115),- 61% of the 167,115 user revi...  Dec 13, 2018   \n",
       "4  Mostly Positive,(11,481),- 74% of the 11,481 u...   May 6, 2003   \n",
       "\n",
       "             developer                                publisher  \\\n",
       "0          id Software    Bethesda Softworks,Bethesda Softworks   \n",
       "1     PUBG Corporation        PUBG Corporation,PUBG Corporation   \n",
       "2  Harebrained Schemes  Paradox Interactive,Paradox Interactive   \n",
       "3  Bohemia Interactive  Bohemia Interactive,Bohemia Interactive   \n",
       "4                  CCP                                  CCP,CCP   \n",
       "\n",
       "                                        popular_tags  \\\n",
       "0  FPS,Gore,Action,Demons,Shooter,First-Person,Gr...   \n",
       "1  Survival,Shooter,Multiplayer,Battle Royale,PvP...   \n",
       "2  Mechs,Strategy,Turn-Based,Turn-Based Tactics,S...   \n",
       "3  Survival,Zombies,Open World,Multiplayer,PvP,Ma...   \n",
       "4  Space,Massively Multiplayer,Sci-fi,Sandbox,MMO...   \n",
       "\n",
       "                                        game_details  \\\n",
       "0  Single-player,Multi-player,Co-op,Steam Achieve...   \n",
       "1             Multi-player,Online Multi-Player,Stats   \n",
       "2  Single-player,Multi-player,Online Multi-Player...   \n",
       "3  Multi-player,Online Multi-Player,Steam Worksho...   \n",
       "4  Multi-player,Online Multi-Player,MMO,Co-op,Onl...   \n",
       "\n",
       "                                           languages  achievements  \\\n",
       "0  English,French,Italian,German,Spanish - Spain,...          54.0   \n",
       "1  English,Korean,Simplified Chinese,French,Germa...          37.0   \n",
       "2                      English,French,German,Russian         128.0   \n",
       "3  English,French,Italian,German,Spanish - Spain,...           NaN   \n",
       "4                      English,German,Russian,French           NaN   \n",
       "\n",
       "                                               genre  \\\n",
       "0                                             Action   \n",
       "1             Action,Adventure,Massively Multiplayer   \n",
       "2                          Action,Adventure,Strategy   \n",
       "3             Action,Adventure,Massively Multiplayer   \n",
       "4  Action,Free to Play,Massively Multiplayer,RPG,...   \n",
       "\n",
       "                                    game_description  \\\n",
       "0   About This Game Developed by id software, the...   \n",
       "1   About This Game  PLAYERUNKNOWN'S BATTLEGROUND...   \n",
       "2   About This Game  From original BATTLETECH/Mec...   \n",
       "3   About This Game The post-soviet country of Ch...   \n",
       "4                                  About This Game     \n",
       "\n",
       "                                      mature_content  \\\n",
       "0                                                NaN   \n",
       "1   Mature Content Description  The developers de...   \n",
       "2                                                NaN   \n",
       "3                                                NaN   \n",
       "4                                                NaN   \n",
       "\n",
       "                                minimum_requirements  \\\n",
       "0  Minimum:,OS:,Windows 7/8.1/10 (64-bit versions...   \n",
       "1  Minimum:,Requires a 64-bit processor and opera...   \n",
       "2  Minimum:,Requires a 64-bit processor and opera...   \n",
       "3  Minimum:,OS:,Windows 7/8.1 64-bit,Processor:,I...   \n",
       "4  Minimum:,OS:,Windows 7,Processor:,Intel Dual C...   \n",
       "\n",
       "                            recommended_requirements original_price  \\\n",
       "0  Recommended:,OS:,Windows 7/8.1/10 (64-bit vers...         $19.99   \n",
       "1  Recommended:,Requires a 64-bit processor and o...         $29.99   \n",
       "2  Recommended:,Requires a 64-bit processor and o...         $39.99   \n",
       "3  Recommended:,OS:,Windows 10 64-bit,Processor:,...         $44.99   \n",
       "4  Recommended:,OS:,Windows 10,Processor:,Intel i...           Free   \n",
       "\n",
       "  discount_price  \n",
       "0         $14.99  \n",
       "1            NaN  \n",
       "2            NaN  \n",
       "3            NaN  \n",
       "4            NaN  "
      ]
     },
     "execution_count": 2,
     "metadata": {},
     "output_type": "execute_result"
    }
   ],
   "source": [
    "df = pd.read_csv(\"data/steam_games.csv\")\n",
    "df.head()"
   ]
  },
  {
   "cell_type": "markdown",
   "metadata": {},
   "source": [
    "We are going to delete some columns for simplify the recommendation system development"
   ]
  },
  {
   "cell_type": "code",
   "execution_count": 3,
   "metadata": {},
   "outputs": [
    {
     "data": {
      "text/plain": [
       "(40833, 12)"
      ]
     },
     "execution_count": 3,
     "metadata": {},
     "output_type": "execute_result"
    }
   ],
   "source": [
    "cols_to_remove = ['url', 'recent_reviews', 'all_reviews', 'achievements', 'languages', 'mature_content', 'minimum_requirements', 'recommended_requirements']\n",
    "\n",
    "df = df \\\n",
    "        .drop(columns=cols_to_remove) \\\n",
    "        .copy()\n",
    "df.shape"
   ]
  },
  {
   "cell_type": "markdown",
   "metadata": {},
   "source": [
    "We are going to export a profiling report in a html file"
   ]
  },
  {
   "cell_type": "raw",
   "metadata": {},
   "source": [
    "ProfileReport(df).to_file(output_file='./report.html')"
   ]
  },
  {
   "cell_type": "markdown",
   "metadata": {},
   "source": [
    "There are three types of packages in the dataset: 'app', 'bundle' and 'sub', these are the values for the 'types' column. We are going to filter only the rows with 'app' value for this variable"
   ]
  },
  {
   "cell_type": "code",
   "execution_count": 4,
   "metadata": {},
   "outputs": [
    {
     "name": "stdout",
     "output_type": "stream",
     "text": [
      "app bundle sub nan\n"
     ]
    }
   ],
   "source": [
    "print(*df['types'].unique())\n",
    "df = df[df['types'] == 'app'].copy()"
   ]
  },
  {
   "cell_type": "code",
   "execution_count": 5,
   "metadata": {},
   "outputs": [
    {
     "name": "stdout",
     "output_type": "stream",
     "text": [
      "(38021, 12)\n"
     ]
    }
   ],
   "source": [
    "print(df.shape)"
   ]
  },
  {
   "cell_type": "markdown",
   "metadata": {},
   "source": [
    "In the profiling report, we have see many columns with missing values. So, we are going to fill these missing values with an empty string."
   ]
  },
  {
   "cell_type": "code",
   "execution_count": 6,
   "metadata": {},
   "outputs": [],
   "source": [
    "cols_to_fill = ['desc_snippet', 'developer', 'game_description', 'game_details', 'genre', 'popular_tags', 'publisher']\n",
    "for col in cols_to_fill:\n",
    "    df[col] = df[col].fillna('')"
   ]
  },
  {
   "cell_type": "markdown",
   "metadata": {},
   "source": [
    "We are going to review the columns with null values."
   ]
  },
  {
   "cell_type": "code",
   "execution_count": 7,
   "metadata": {},
   "outputs": [
    {
     "data": {
      "text/plain": [
       "types                   0\n",
       "name                   14\n",
       "desc_snippet            0\n",
       "release_date          367\n",
       "developer               0\n",
       "publisher               0\n",
       "popular_tags            0\n",
       "game_details            0\n",
       "genre                   0\n",
       "game_description        0\n",
       "original_price       3022\n",
       "discount_price      26275\n",
       "dtype: int64"
      ]
     },
     "execution_count": 7,
     "metadata": {},
     "output_type": "execute_result"
    }
   ],
   "source": [
    "df.isnull().sum()"
   ]
  },
  {
   "cell_type": "code",
   "execution_count": 8,
   "metadata": {},
   "outputs": [
    {
     "data": {
      "text/plain": [
       "0"
      ]
     },
     "execution_count": 8,
     "metadata": {},
     "output_type": "execute_result"
    }
   ],
   "source": [
    "# Removing the rows with null values in the 'name' column\n",
    "df.dropna(subset=['name'], inplace=True)\n",
    "\n",
    "# Verifying the null values in this column\n",
    "df['name'].isnull().sum()"
   ]
  },
  {
   "cell_type": "markdown",
   "metadata": {},
   "source": [
    "We are going to work with some columns that describe to the game and will be interesting for generate recommendations. These are: 'popular_tag', 'game_details', 'genre', 'dveloper', 'publisher'. The first three are items separated by comma or only one item so, we can transform them in a list."
   ]
  },
  {
   "cell_type": "code",
   "execution_count": 9,
   "metadata": {},
   "outputs": [],
   "source": [
    "col_features = ['popular_tags', 'genre', 'game_details']"
   ]
  },
  {
   "cell_type": "code",
   "execution_count": 10,
   "metadata": {},
   "outputs": [
    {
     "name": "stdout",
     "output_type": "stream",
     "text": [
      "Column: popular_tags\n",
      "Value:  Survival,Shooter,Multiplayer,Battle Royale,PvP,FPS,Third-Person Shooter,Action,Online Co-Op,Tactical,Co-op,First-Person,Early Access,Strategy,Competitive,Third Person,Team-Based,Difficult,Simulation,Stealth\n",
      "Column: genre\n",
      "Value:  Action,Adventure,Massively Multiplayer\n",
      "Column: game_details\n",
      "Value:  Multi-player,Online Multi-Player,Stats\n"
     ]
    }
   ],
   "source": [
    "## Viewing an example of these features\n",
    "for c in col_features:\n",
    "    print('Column:', c)\n",
    "    print('Value: ', df.iloc[1][c])"
   ]
  },
  {
   "cell_type": "code",
   "execution_count": 11,
   "metadata": {},
   "outputs": [],
   "source": [
    "for c in col_features:\n",
    "    df[c] = df[c].apply(lambda x: x.split(','))"
   ]
  },
  {
   "cell_type": "code",
   "execution_count": 12,
   "metadata": {},
   "outputs": [
    {
     "data": {
      "text/html": [
       "<div>\n",
       "<style scoped>\n",
       "    .dataframe tbody tr th:only-of-type {\n",
       "        vertical-align: middle;\n",
       "    }\n",
       "\n",
       "    .dataframe tbody tr th {\n",
       "        vertical-align: top;\n",
       "    }\n",
       "\n",
       "    .dataframe thead th {\n",
       "        text-align: right;\n",
       "    }\n",
       "</style>\n",
       "<table border=\"1\" class=\"dataframe\">\n",
       "  <thead>\n",
       "    <tr style=\"text-align: right;\">\n",
       "      <th></th>\n",
       "      <th>types</th>\n",
       "      <th>name</th>\n",
       "      <th>desc_snippet</th>\n",
       "      <th>release_date</th>\n",
       "      <th>developer</th>\n",
       "      <th>publisher</th>\n",
       "      <th>popular_tags</th>\n",
       "      <th>game_details</th>\n",
       "      <th>genre</th>\n",
       "      <th>game_description</th>\n",
       "      <th>original_price</th>\n",
       "      <th>discount_price</th>\n",
       "    </tr>\n",
       "  </thead>\n",
       "  <tbody>\n",
       "    <tr>\n",
       "      <th>0</th>\n",
       "      <td>app</td>\n",
       "      <td>DOOM</td>\n",
       "      <td>Now includes all three premium DLC packs (Unto...</td>\n",
       "      <td>May 12, 2016</td>\n",
       "      <td>id Software</td>\n",
       "      <td>Bethesda Softworks,Bethesda Softworks</td>\n",
       "      <td>[FPS, Gore, Action, Demons, Shooter, First-Per...</td>\n",
       "      <td>[Single-player, Multi-player, Co-op, Steam Ach...</td>\n",
       "      <td>[Action]</td>\n",
       "      <td>About This Game Developed by id software, the...</td>\n",
       "      <td>$19.99</td>\n",
       "      <td>$14.99</td>\n",
       "    </tr>\n",
       "    <tr>\n",
       "      <th>1</th>\n",
       "      <td>app</td>\n",
       "      <td>PLAYERUNKNOWN'S BATTLEGROUNDS</td>\n",
       "      <td>PLAYERUNKNOWN'S BATTLEGROUNDS is a battle roya...</td>\n",
       "      <td>Dec 21, 2017</td>\n",
       "      <td>PUBG Corporation</td>\n",
       "      <td>PUBG Corporation,PUBG Corporation</td>\n",
       "      <td>[Survival, Shooter, Multiplayer, Battle Royale...</td>\n",
       "      <td>[Multi-player, Online Multi-Player, Stats]</td>\n",
       "      <td>[Action, Adventure, Massively Multiplayer]</td>\n",
       "      <td>About This Game  PLAYERUNKNOWN'S BATTLEGROUND...</td>\n",
       "      <td>$29.99</td>\n",
       "      <td>NaN</td>\n",
       "    </tr>\n",
       "    <tr>\n",
       "      <th>2</th>\n",
       "      <td>app</td>\n",
       "      <td>BATTLETECH</td>\n",
       "      <td>Take command of your own mercenary outfit of '...</td>\n",
       "      <td>Apr 24, 2018</td>\n",
       "      <td>Harebrained Schemes</td>\n",
       "      <td>Paradox Interactive,Paradox Interactive</td>\n",
       "      <td>[Mechs, Strategy, Turn-Based, Turn-Based Tacti...</td>\n",
       "      <td>[Single-player, Multi-player, Online Multi-Pla...</td>\n",
       "      <td>[Action, Adventure, Strategy]</td>\n",
       "      <td>About This Game  From original BATTLETECH/Mec...</td>\n",
       "      <td>$39.99</td>\n",
       "      <td>NaN</td>\n",
       "    </tr>\n",
       "  </tbody>\n",
       "</table>\n",
       "</div>"
      ],
      "text/plain": [
       "  types                           name  \\\n",
       "0   app                           DOOM   \n",
       "1   app  PLAYERUNKNOWN'S BATTLEGROUNDS   \n",
       "2   app                     BATTLETECH   \n",
       "\n",
       "                                        desc_snippet  release_date  \\\n",
       "0  Now includes all three premium DLC packs (Unto...  May 12, 2016   \n",
       "1  PLAYERUNKNOWN'S BATTLEGROUNDS is a battle roya...  Dec 21, 2017   \n",
       "2  Take command of your own mercenary outfit of '...  Apr 24, 2018   \n",
       "\n",
       "             developer                                publisher  \\\n",
       "0          id Software    Bethesda Softworks,Bethesda Softworks   \n",
       "1     PUBG Corporation        PUBG Corporation,PUBG Corporation   \n",
       "2  Harebrained Schemes  Paradox Interactive,Paradox Interactive   \n",
       "\n",
       "                                        popular_tags  \\\n",
       "0  [FPS, Gore, Action, Demons, Shooter, First-Per...   \n",
       "1  [Survival, Shooter, Multiplayer, Battle Royale...   \n",
       "2  [Mechs, Strategy, Turn-Based, Turn-Based Tacti...   \n",
       "\n",
       "                                        game_details  \\\n",
       "0  [Single-player, Multi-player, Co-op, Steam Ach...   \n",
       "1         [Multi-player, Online Multi-Player, Stats]   \n",
       "2  [Single-player, Multi-player, Online Multi-Pla...   \n",
       "\n",
       "                                        genre  \\\n",
       "0                                    [Action]   \n",
       "1  [Action, Adventure, Massively Multiplayer]   \n",
       "2               [Action, Adventure, Strategy]   \n",
       "\n",
       "                                    game_description original_price  \\\n",
       "0   About This Game Developed by id software, the...         $19.99   \n",
       "1   About This Game  PLAYERUNKNOWN'S BATTLEGROUND...         $29.99   \n",
       "2   About This Game  From original BATTLETECH/Mec...         $39.99   \n",
       "\n",
       "  discount_price  \n",
       "0         $14.99  \n",
       "1            NaN  \n",
       "2            NaN  "
      ]
     },
     "execution_count": 12,
     "metadata": {},
     "output_type": "execute_result"
    }
   ],
   "source": [
    "df.head(3)"
   ]
  },
  {
   "cell_type": "markdown",
   "metadata": {},
   "source": [
    "For each game, we are going to group all these features in a string and load them in a new column"
   ]
  },
  {
   "cell_type": "code",
   "execution_count": 13,
   "metadata": {},
   "outputs": [],
   "source": [
    "def group_features(x):\n",
    "    return f\"{' '.join(x['popular_tags'])} {' '.join(x['genre'])} {' '.join(x['game_details'])}\""
   ]
  },
  {
   "cell_type": "code",
   "execution_count": 14,
   "metadata": {},
   "outputs": [],
   "source": [
    "df['game_metadata'] = df.apply(group_features, axis=1)"
   ]
  },
  {
   "cell_type": "code",
   "execution_count": 15,
   "metadata": {},
   "outputs": [
    {
     "data": {
      "text/plain": [
       "'FPS Gore Action Demons Shooter First-Person Great Soundtrack Multiplayer Singleplayer Fast-Paced Sci-fi Horror Classic Atmospheric Difficult Blood Remake Zombies Co-op Memes Action Single-player Multi-player Co-op Steam Achievements Steam Trading Cards Partial Controller Support Steam Cloud'"
      ]
     },
     "execution_count": 15,
     "metadata": {},
     "output_type": "execute_result"
    }
   ],
   "source": [
    "df.iloc[0]['game_metadata']"
   ]
  },
  {
   "cell_type": "markdown",
   "metadata": {},
   "source": [
    "## **Recommendations**"
   ]
  },
  {
   "cell_type": "markdown",
   "metadata": {},
   "source": [
    "## **Recommendations based on game features**\n",
    "These features will be: developer and publisher of the game, genre, top tags, details."
   ]
  },
  {
   "cell_type": "code",
   "execution_count": 16,
   "metadata": {},
   "outputs": [],
   "source": [
    "from sklearn.feature_extraction.text import CountVectorizer\n",
    "from sklearn.metrics.pairwise import cosine_similarity"
   ]
  },
  {
   "cell_type": "code",
   "execution_count": 17,
   "metadata": {},
   "outputs": [],
   "source": [
    "count = CountVectorizer(stop_words='english')\n",
    "count_matrix = count.fit_transform(df['game_metadata'].iloc[:10000])"
   ]
  },
  {
   "cell_type": "code",
   "execution_count": 18,
   "metadata": {},
   "outputs": [],
   "source": [
    "cosine_sim = cosine_similarity(count_matrix, count_matrix)"
   ]
  },
  {
   "cell_type": "code",
   "execution_count": 19,
   "metadata": {},
   "outputs": [],
   "source": [
    "def features_recommender(top, name, cosine_sim=cosine_sim, df=df):\n",
    "    indices = pd.Series(df.index, index=df['name']).drop_duplicates()\n",
    "    idx = indices[name]\n",
    "    \n",
    "    sim_scores = list(enumerate(cosine_sim[idx]))\n",
    "    sim_scores = sorted(sim_scores, key=lambda x: x[1], reverse=True)\n",
    "    sim_scores = sim_scores[1:top+1]\n",
    "    game_indices = [i[0] for i in sim_scores]\n",
    "    \n",
    "    return df.iloc[game_indices]['name']"
   ]
  },
  {
   "cell_type": "code",
   "execution_count": 20,
   "metadata": {},
   "outputs": [
    {
     "data": {
      "text/plain": [
       "1294                Painkiller Hell & Damnation\n",
       "2348        Serious Sam HD: The First Encounter\n",
       "1458           The Typing of The Dead: Overkill\n",
       "183                 Call of Duty®: Black Ops II\n",
       "2283                                 F.E.A.R. 3\n",
       "139                                        DUSK\n",
       "9225        Red Faction Guerrilla Steam Edition\n",
       "2432       Serious Sam HD: The Second Encounter\n",
       "2721    Dead Island: Riptide Definitive Edition\n",
       "839                         Doom 3: BFG Edition\n",
       "Name: name, dtype: object"
      ]
     },
     "execution_count": 20,
     "metadata": {},
     "output_type": "execute_result"
    }
   ],
   "source": [
    "features_recommender(10, 'DOOM')"
   ]
  },
  {
   "cell_type": "markdown",
   "metadata": {},
   "source": [
    "### **Recommendations based on game descriptions**"
   ]
  },
  {
   "cell_type": "markdown",
   "metadata": {},
   "source": [
    "In this case, we are going to do a syntactic analysis on the game's description, the recommendations will be generated by the similarity between these descriptions"
   ]
  },
  {
   "cell_type": "code",
   "execution_count": 21,
   "metadata": {},
   "outputs": [],
   "source": [
    "from sklearn.feature_extraction.text import TfidfVectorizer\n",
    "\n",
    "vectorizer = TfidfVectorizer(min_df=1, stop_words='english')\n",
    "bag_of_words = vectorizer.fit_transform(df.iloc[:10000]['game_description'])"
   ]
  },
  {
   "cell_type": "code",
   "execution_count": 22,
   "metadata": {},
   "outputs": [
    {
     "name": "stdout",
     "output_type": "stream",
     "text": [
      "Distinct words:  60072\n"
     ]
    }
   ],
   "source": [
    "print('Distinct words: ', bag_of_words.shape[1])"
   ]
  },
  {
   "cell_type": "code",
   "execution_count": 23,
   "metadata": {},
   "outputs": [],
   "source": [
    "from sklearn.metrics.pairwise import linear_kernel\n",
    "cosine_sim2 = linear_kernel(bag_of_words, bag_of_words)"
   ]
  },
  {
   "cell_type": "code",
   "execution_count": 24,
   "metadata": {},
   "outputs": [],
   "source": [
    "def description_recommender(top, game, cosine_sim=cosine_sim2, df=df):\n",
    "    indices = pd.Series(df.index, index=df['name']).drop_duplicates()\n",
    "    idx = indices[game]\n",
    "    \n",
    "    sim_scores = list(enumerate(cosine_sim[idx]))\n",
    "    sim_scores = sorted(sim_scores, key=lambda x: x[1], reverse=True)\n",
    "    sim_scores = sim_scores[1:top+1]\n",
    "    song_indices = [i[0] for i in sim_scores]\n",
    "    \n",
    "    return df['name'].iloc[song_indices]"
   ]
  },
  {
   "cell_type": "code",
   "execution_count": 25,
   "metadata": {},
   "outputs": [
    {
     "data": {
      "text/plain": [
       "839             Doom 3: BFG Edition\n",
       "788                        DOOM VFR\n",
       "366                    DOOM Eternal\n",
       "2105    DOOM 3 Resurrection of Evil\n",
       "1652           Hell is Other Demons\n",
       "96                    Ultimate Doom\n",
       "7687       The Haunted: Hells Reach\n",
       "7780                         HordeZ\n",
       "8548       Hellbound: Survival Mode\n",
       "8648                   Reflex Arena\n",
       "Name: name, dtype: object"
      ]
     },
     "execution_count": 25,
     "metadata": {},
     "output_type": "execute_result"
    }
   ],
   "source": [
    "description_recommender(10, 'DOOM')"
   ]
  },
  {
   "cell_type": "code",
   "execution_count": null,
   "metadata": {},
   "outputs": [],
   "source": []
  }
 ],
 "metadata": {
  "kernelspec": {
   "display_name": "Python 3",
   "language": "python",
   "name": "python3"
  },
  "language_info": {
   "codemirror_mode": {
    "name": "ipython",
    "version": 3
   },
   "file_extension": ".py",
   "mimetype": "text/x-python",
   "name": "python",
   "nbconvert_exporter": "python",
   "pygments_lexer": "ipython3",
   "version": "3.8.5"
  }
 },
 "nbformat": 4,
 "nbformat_minor": 4
}
